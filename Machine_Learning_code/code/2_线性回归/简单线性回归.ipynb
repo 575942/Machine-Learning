{
 "cells": [
  {
   "cell_type": "markdown",
   "metadata": {},
   "source": [
    "# 简单的线性回归\n",
    "\n",
    "## 使用单一特征来预测响应值\n",
    "这是一种基于自变量（x）来预测因变量（y）的方法。\n",
    "\n",
    "假设这俩个变量是线性相关的。因此，我们尝试着寻找一种更具特征或自变量（x）的线性函数来预测响应值（y）。\n",
    "\n",
    "## 怎么找到最佳的你和曲线？\n",
    "在这个回归任务中，我们将通过找到**最佳拟合曲线**来最小化预测误差。\n",
    "\n",
    "在这个回归任务中，我们将预测一个学生根据学习的小时来计算分数的百分比。\n",
    "\n",
    "**score=b0+b1*huors**"
   ]
  },
  {
   "cell_type": "markdown",
   "metadata": {},
   "source": [
    "## 1、数据预处理\n",
    "* 导入相关的库\n",
    "* 导入数据集\n",
    "* 检查缺失值\n",
    "* 划分数据集\n",
    "* 特征缩放（我们将使用简单的线性模型的相关库进行）"
   ]
  },
  {
   "cell_type": "code",
   "execution_count": 2,
   "metadata": {},
   "outputs": [
    {
     "name": "stdout",
     "output_type": "stream",
     "text": [
      "[[3.8]\n",
      " [1.9]\n",
      " [7.8]\n",
      " [6.9]\n",
      " [1.1]\n",
      " [5.1]\n",
      " [7.7]\n",
      " [3.3]\n",
      " [8.3]\n",
      " [9.2]\n",
      " [6.1]\n",
      " [3.5]\n",
      " [2.7]\n",
      " [5.5]\n",
      " [2.7]\n",
      " [8.5]\n",
      " [2.5]\n",
      " [4.8]\n",
      " [8.9]\n",
      " [4.5]]\n",
      "[35 24 86 76 17 47 85 42 81 88 67 30 25 60 30 75 21 54 95 41]\n"
     ]
    }
   ],
   "source": [
    "#数据预处理\n",
    "import numpy as np \n",
    "import pandas as pd\n",
    "import matplotlib.pyplot as plt\n",
    "from sklearn.model_selection import train_test_split #划分数据模块\n",
    "df=pd.read_csv(r\"D:\\program Lab Report\\machine learning\\100day\\datasets\\studentscores.csv\")\n",
    "df.isnull()  #查看数据是否有缺失值\n",
    "#导入数据集\n",
    "x=df.iloc[:,:1].values  #huors作为自变量,矩阵格式\n",
    "y=df.iloc[:,1].values  #score作为因变量\n",
    "#划分数据集\n",
    "x_train,x_test,y_train,y_test=train_test_split(x,y,train_size=0.8,random_state=0)\n",
    "print(x_train)\n",
    "print(y_train)"
   ]
  },
  {
   "cell_type": "markdown",
   "metadata": {},
   "source": [
    "## 2、通过训练集来训练简单的回归模型\n",
    "\n",
    "* sklearn.linear_model库的LinearRegression类。\n",
    "* 创建一个LinearRegression类的**regressor**对象。\n",
    "* 使用LinearRegression类的fit()方法将**regressor**对象对数据集进行训练。\n",
    "\n",
    "LinearRegression(fit_intercept=True, normalize=False, copy_X=True, n_jobs=1)\n",
    "* fit_intercept：是否计算截距。\n",
    "* normalize： 当fit_intercept设置为False时，该参数将被忽略。 如果为真，则回归前的回归系数X将通过减去平均值并除以l2-范数而归一化。\n",
    "* copy_X：布尔数，可选，默认为真，如果为真，X会被拷贝，反之，会被覆盖。\n",
    "* n_jobs：指定线程数"
   ]
  },
  {
   "cell_type": "code",
   "execution_count": 10,
   "metadata": {},
   "outputs": [
    {
     "name": "stdout",
     "output_type": "stream",
     "text": [
      "LinearRegression(copy_X=True, fit_intercept=True, n_jobs=None, normalize=False)\n"
     ]
    },
    {
     "data": {
      "text/plain": [
       "array([16.88414476, 33.73226078, 75.357018  , 26.79480124, 60.49103328])"
      ]
     },
     "execution_count": 10,
     "metadata": {},
     "output_type": "execute_result"
    }
   ],
   "source": [
    "from sklearn.linear_model import LinearRegression \n",
    "regressor=LinearRegression() #初始化对象\n",
    "regressor=regressor.fit(x_train,y_train) #训练数据集\n",
    "print(regressor)\n",
    "regressor.predict(x_test)  #模型对测试集的预测结果"
   ]
  },
  {
   "cell_type": "markdown",
   "metadata": {},
   "source": [
    "## 3、可视化\n",
    "\n",
    "最后一步是将结果可视化，我们将使用matplotlib.pyplot库对我们的训练集结果和测试机结果做散点图，方便查看模型预测的效果。"
   ]
  },
  {
   "cell_type": "code",
   "execution_count": 4,
   "metadata": {},
   "outputs": [
    {
     "data": {
      "text/plain": [
       "<matplotlib.legend.Legend at 0x1e7f8baab88>"
      ]
     },
     "execution_count": 4,
     "metadata": {},
     "output_type": "execute_result"
    },
    {
     "data": {
      "image/png": "[encoded data removed]",
      "text/plain": [
       "<Figure size 432x288 with 1 Axes>"
      ]
     },
     "metadata": {
      "needs_background": "light"
     },
     "output_type": "display_data"
    }
   ],
   "source": [
    "#训练集结果的预测可视化\n",
    "plt.scatter(x_train,y_train,color=\"red\",label=\"trianing data\")  #训练集\n",
    "plt.plot(x_train,regressor.predict(x_train),color=\"b\",label=\"predicted\")\n",
    "plt.legend()"
   ]
  },
  {
   "cell_type": "code",
   "execution_count": 5,
   "metadata": {},
   "outputs": [
    {
     "data": {
      "text/plain": [
       "<matplotlib.legend.Legend at 0x1e7f8c439c8>"
      ]
     },
     "execution_count": 5,
     "metadata": {},
     "output_type": "execute_result"
    },
    {
     "data": {
      "image/png": "[encoded data removed]",
      "text/plain": [
       "<Figure size 432x288 with 1 Axes>"
      ]
     },
     "metadata": {
      "needs_background": "light"
     },
     "output_type": "display_data"
    }
   ],
   "source": [
    "#测试集结果的预测可视化\n",
    "plt.scatter(x_test,y_test,color=\"red\",label=\"test data\")\n",
    "plt.plot(x_test,regressor.predict(x_test),color=\"green\",label=\"predicted\")\n",
    "plt.legend()"
   ]
  }
 ],
 "metadata": {
  "interpreter": {
   "hash": "8f03fb8992b0e5aa6a67cd56eb653950a01f214acb97d94a2178dd1aa47d1bcf"
  },
  "kernelspec": {
   "display_name": "Python 3.7.6 64-bit ('base': conda)",
   "language": "python",
   "name": "python3"
  },
  "language_info": {
   "codemirror_mode": {
    "name": "ipython",
    "version": 3
   },
   "file_extension": ".py",
   "mimetype": "text/x-python",
   "name": "python",
   "nbconvert_exporter": "python",
   "pygments_lexer": "ipython3",
   "version": "3.7.6"
  },
  "orig_nbformat": 4
 },
 "nbformat": 4,
 "nbformat_minor": 2
}
