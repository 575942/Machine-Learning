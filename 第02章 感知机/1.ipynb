{
 "cells": [
  {
   "cell_type": "markdown",
   "metadata": {},
   "source": [
    "感知机"
   ]
  },
  {
   "cell_type": "code",
   "execution_count": 2,
   "metadata": {},
   "outputs": [
    {
     "name": "stderr",
     "output_type": "stream",
     "text": [
      "UsageError: unrecognized arguments: #可以在jupter中之间生成图像\n"
     ]
    }
   ],
   "source": [
    "import pandas as pd\n",
    "import numpy as np\n",
    "from sklearn.datasets import load_iris\n",
    "import matplotlib.pyplot as plt \n",
    "%matplotlib inline  #可以在jupter中之间生成图像"
   ]
  },
  {
   "cell_type": "code",
   "execution_count": 3,
   "metadata": {},
   "outputs": [
    {
     "data": {
      "text/html": [
       "<div>\n",
       "<style scoped>\n",
       "    .dataframe tbody tr th:only-of-type {\n",
       "        vertical-align: middle;\n",
       "    }\n",
       "\n",
       "    .dataframe tbody tr th {\n",
       "        vertical-align: top;\n",
       "    }\n",
       "\n",
       "    .dataframe thead th {\n",
       "        text-align: right;\n",
       "    }\n",
       "</style>\n",
       "<table border=\"1\" class=\"dataframe\">\n",
       "  <thead>\n",
       "    <tr style=\"text-align: right;\">\n",
       "      <th></th>\n",
       "      <th>sepal length (cm)</th>\n",
       "      <th>sepal width (cm)</th>\n",
       "      <th>petal length (cm)</th>\n",
       "      <th>petal width (cm)</th>\n",
       "      <th>label</th>\n",
       "    </tr>\n",
       "  </thead>\n",
       "  <tbody>\n",
       "    <tr>\n",
       "      <th>0</th>\n",
       "      <td>5.1</td>\n",
       "      <td>3.5</td>\n",
       "      <td>1.4</td>\n",
       "      <td>0.2</td>\n",
       "      <td>0</td>\n",
       "    </tr>\n",
       "    <tr>\n",
       "      <th>1</th>\n",
       "      <td>4.9</td>\n",
       "      <td>3.0</td>\n",
       "      <td>1.4</td>\n",
       "      <td>0.2</td>\n",
       "      <td>0</td>\n",
       "    </tr>\n",
       "    <tr>\n",
       "      <th>2</th>\n",
       "      <td>4.7</td>\n",
       "      <td>3.2</td>\n",
       "      <td>1.3</td>\n",
       "      <td>0.2</td>\n",
       "      <td>0</td>\n",
       "    </tr>\n",
       "    <tr>\n",
       "      <th>3</th>\n",
       "      <td>4.6</td>\n",
       "      <td>3.1</td>\n",
       "      <td>1.5</td>\n",
       "      <td>0.2</td>\n",
       "      <td>0</td>\n",
       "    </tr>\n",
       "    <tr>\n",
       "      <th>4</th>\n",
       "      <td>5.0</td>\n",
       "      <td>3.6</td>\n",
       "      <td>1.4</td>\n",
       "      <td>0.2</td>\n",
       "      <td>0</td>\n",
       "    </tr>\n",
       "  </tbody>\n",
       "</table>\n",
       "</div>"
      ],
      "text/plain": [
       "   sepal length (cm)  sepal width (cm)  petal length (cm)  petal width (cm)  \\\n",
       "0                5.1               3.5                1.4               0.2   \n",
       "1                4.9               3.0                1.4               0.2   \n",
       "2                4.7               3.2                1.3               0.2   \n",
       "3                4.6               3.1                1.5               0.2   \n",
       "4                5.0               3.6                1.4               0.2   \n",
       "\n",
       "   label  \n",
       "0      0  \n",
       "1      0  \n",
       "2      0  \n",
       "3      0  \n",
       "4      0  "
      ]
     },
     "execution_count": 3,
     "metadata": {},
     "output_type": "execute_result"
    }
   ],
   "source": [
    "#下载数据集\n",
    "iris=load_iris()   #下载数据\n",
    "df=pd.DataFrame(iris.data,columns=iris.feature_names)  #格式化数据（sepal length：花萼长度，petal length：花瓣宽度）\n",
    "df[\"label\"]=iris.target  #添加标签列\n",
    "df.head()"
   ]
  },
  {
   "cell_type": "code",
   "execution_count": 4,
   "metadata": {},
   "outputs": [
    {
     "name": "stdout",
     "output_type": "stream",
     "text": [
      "2    50\n",
      "1    50\n",
      "0    50\n",
      "Name: label, dtype: int64\n"
     ]
    }
   ],
   "source": [
    "#重新格式化数据\n",
    "df.columns=['sepal length', 'sepal width', 'petal length', 'petal width', 'label']\n",
    "nums=df.label.value_counts()  #计算标签种类的个数\n",
    "print(nums)"
   ]
  },
  {
   "cell_type": "code",
   "execution_count": 5,
   "metadata": {},
   "outputs": [
    {
     "data": {
      "text/plain": [
       "<matplotlib.legend.Legend at 0x2accab0d7c8>"
      ]
     },
     "execution_count": 5,
     "metadata": {},
     "output_type": "execute_result"
    },
    {
     "data": {
      "image/png": "[encoded data removed]",
      "text/plain": [
       "<Figure size 432x288 with 1 Axes>"
      ]
     },
     "metadata": {
      "needs_background": "light"
     },
     "output_type": "display_data"
    }
   ],
   "source": [
    "#散点图\n",
    "plt.scatter(df[:50]['sepal length'],df[:50][\"sepal width\"],label=\"0\")  #添加标签\n",
    "plt.scatter(df[50:100][\"sepal length\"],df[50:100][\"sepal width\"],label=\"1\")\n",
    "plt.xlabel(\"sepal length\")  \n",
    "plt.ylabel(\"sepal width\")\n",
    "\n",
    "plt.legend()  #显示图像\n"
   ]
  },
  {
   "cell_type": "code",
   "execution_count": 6,
   "metadata": {},
   "outputs": [
    {
     "name": "stdout",
     "output_type": "stream",
     "text": [
      "[[5.1 3.5 0. ]\n",
      " [4.9 3.  0. ]\n",
      " [4.7 3.2 0. ]\n",
      " [4.6 3.1 0. ]\n",
      " [5.  3.6 0. ]\n",
      " [5.4 3.9 0. ]\n",
      " [4.6 3.4 0. ]\n",
      " [5.  3.4 0. ]\n",
      " [4.4 2.9 0. ]\n",
      " [4.9 3.1 0. ]\n",
      " [5.4 3.7 0. ]\n",
      " [4.8 3.4 0. ]\n",
      " [4.8 3.  0. ]\n",
      " [4.3 3.  0. ]\n",
      " [5.8 4.  0. ]\n",
      " [5.7 4.4 0. ]\n",
      " [5.4 3.9 0. ]\n",
      " [5.1 3.5 0. ]\n",
      " [5.7 3.8 0. ]\n",
      " [5.1 3.8 0. ]\n",
      " [5.4 3.4 0. ]\n",
      " [5.1 3.7 0. ]\n",
      " [4.6 3.6 0. ]\n",
      " [5.1 3.3 0. ]\n",
      " [4.8 3.4 0. ]\n",
      " [5.  3.  0. ]\n",
      " [5.  3.4 0. ]\n",
      " [5.2 3.5 0. ]\n",
      " [5.2 3.4 0. ]\n",
      " [4.7 3.2 0. ]\n",
      " [4.8 3.1 0. ]\n",
      " [5.4 3.4 0. ]\n",
      " [5.2 4.1 0. ]\n",
      " [5.5 4.2 0. ]\n",
      " [4.9 3.1 0. ]\n",
      " [5.  3.2 0. ]\n",
      " [5.5 3.5 0. ]\n",
      " [4.9 3.6 0. ]\n",
      " [4.4 3.  0. ]\n",
      " [5.1 3.4 0. ]\n",
      " [5.  3.5 0. ]\n",
      " [4.5 2.3 0. ]\n",
      " [4.4 3.2 0. ]\n",
      " [5.  3.5 0. ]\n",
      " [5.1 3.8 0. ]\n",
      " [4.8 3.  0. ]\n",
      " [5.1 3.8 0. ]\n",
      " [4.6 3.2 0. ]\n",
      " [5.3 3.7 0. ]\n",
      " [5.  3.3 0. ]\n",
      " [7.  3.2 1. ]\n",
      " [6.4 3.2 1. ]\n",
      " [6.9 3.1 1. ]\n",
      " [5.5 2.3 1. ]\n",
      " [6.5 2.8 1. ]\n",
      " [5.7 2.8 1. ]\n",
      " [6.3 3.3 1. ]\n",
      " [4.9 2.4 1. ]\n",
      " [6.6 2.9 1. ]\n",
      " [5.2 2.7 1. ]\n",
      " [5.  2.  1. ]\n",
      " [5.9 3.  1. ]\n",
      " [6.  2.2 1. ]\n",
      " [6.1 2.9 1. ]\n",
      " [5.6 2.9 1. ]\n",
      " [6.7 3.1 1. ]\n",
      " [5.6 3.  1. ]\n",
      " [5.8 2.7 1. ]\n",
      " [6.2 2.2 1. ]\n",
      " [5.6 2.5 1. ]\n",
      " [5.9 3.2 1. ]\n",
      " [6.1 2.8 1. ]\n",
      " [6.3 2.5 1. ]\n",
      " [6.1 2.8 1. ]\n",
      " [6.4 2.9 1. ]\n",
      " [6.6 3.  1. ]\n",
      " [6.8 2.8 1. ]\n",
      " [6.7 3.  1. ]\n",
      " [6.  2.9 1. ]\n",
      " [5.7 2.6 1. ]\n",
      " [5.5 2.4 1. ]\n",
      " [5.5 2.4 1. ]\n",
      " [5.8 2.7 1. ]\n",
      " [6.  2.7 1. ]\n",
      " [5.4 3.  1. ]\n",
      " [6.  3.4 1. ]\n",
      " [6.7 3.1 1. ]\n",
      " [6.3 2.3 1. ]\n",
      " [5.6 3.  1. ]\n",
      " [5.5 2.5 1. ]\n",
      " [5.5 2.6 1. ]\n",
      " [6.1 3.  1. ]\n",
      " [5.8 2.6 1. ]\n",
      " [5.  2.3 1. ]\n",
      " [5.6 2.7 1. ]\n",
      " [5.7 3.  1. ]\n",
      " [5.7 2.9 1. ]\n",
      " [6.2 2.9 1. ]\n",
      " [5.1 2.5 1. ]\n",
      " [5.7 2.8 1. ]]\n"
     ]
    }
   ],
   "source": [
    "#数据分类\n",
    "data=np.array(df.iloc[:100,[0,1,-1]]) #行数，标签为0和1和-1列\n",
    "print(data)"
   ]
  },
  {
   "cell_type": "code",
   "execution_count": 7,
   "metadata": {},
   "outputs": [
    {
     "name": "stdout",
     "output_type": "stream",
     "text": [
      "[[5.1 3.5]\n",
      " [4.9 3. ]\n",
      " [4.7 3.2]\n",
      " [4.6 3.1]\n",
      " [5.  3.6]\n",
      " [5.4 3.9]\n",
      " [4.6 3.4]\n",
      " [5.  3.4]\n",
      " [4.4 2.9]\n",
      " [4.9 3.1]\n",
      " [5.4 3.7]\n",
      " [4.8 3.4]\n",
      " [4.8 3. ]\n",
      " [4.3 3. ]\n",
      " [5.8 4. ]\n",
      " [5.7 4.4]\n",
      " [5.4 3.9]\n",
      " [5.1 3.5]\n",
      " [5.7 3.8]\n",
      " [5.1 3.8]\n",
      " [5.4 3.4]\n",
      " [5.1 3.7]\n",
      " [4.6 3.6]\n",
      " [5.1 3.3]\n",
      " [4.8 3.4]\n",
      " [5.  3. ]\n",
      " [5.  3.4]\n",
      " [5.2 3.5]\n",
      " [5.2 3.4]\n",
      " [4.7 3.2]\n",
      " [4.8 3.1]\n",
      " [5.4 3.4]\n",
      " [5.2 4.1]\n",
      " [5.5 4.2]\n",
      " [4.9 3.1]\n",
      " [5.  3.2]\n",
      " [5.5 3.5]\n",
      " [4.9 3.6]\n",
      " [4.4 3. ]\n",
      " [5.1 3.4]\n",
      " [5.  3.5]\n",
      " [4.5 2.3]\n",
      " [4.4 3.2]\n",
      " [5.  3.5]\n",
      " [5.1 3.8]\n",
      " [4.8 3. ]\n",
      " [5.1 3.8]\n",
      " [4.6 3.2]\n",
      " [5.3 3.7]\n",
      " [5.  3.3]\n",
      " [7.  3.2]\n",
      " [6.4 3.2]\n",
      " [6.9 3.1]\n",
      " [5.5 2.3]\n",
      " [6.5 2.8]\n",
      " [5.7 2.8]\n",
      " [6.3 3.3]\n",
      " [4.9 2.4]\n",
      " [6.6 2.9]\n",
      " [5.2 2.7]\n",
      " [5.  2. ]\n",
      " [5.9 3. ]\n",
      " [6.  2.2]\n",
      " [6.1 2.9]\n",
      " [5.6 2.9]\n",
      " [6.7 3.1]\n",
      " [5.6 3. ]\n",
      " [5.8 2.7]\n",
      " [6.2 2.2]\n",
      " [5.6 2.5]\n",
      " [5.9 3.2]\n",
      " [6.1 2.8]\n",
      " [6.3 2.5]\n",
      " [6.1 2.8]\n",
      " [6.4 2.9]\n",
      " [6.6 3. ]\n",
      " [6.8 2.8]\n",
      " [6.7 3. ]\n",
      " [6.  2.9]\n",
      " [5.7 2.6]\n",
      " [5.5 2.4]\n",
      " [5.5 2.4]\n",
      " [5.8 2.7]\n",
      " [6.  2.7]\n",
      " [5.4 3. ]\n",
      " [6.  3.4]\n",
      " [6.7 3.1]\n",
      " [6.3 2.3]\n",
      " [5.6 3. ]\n",
      " [5.5 2.5]\n",
      " [5.5 2.6]\n",
      " [6.1 3. ]\n",
      " [5.8 2.6]\n",
      " [5.  2.3]\n",
      " [5.6 2.7]\n",
      " [5.7 3. ]\n",
      " [5.7 2.9]\n",
      " [6.2 2.9]\n",
      " [5.1 2.5]\n",
      " [5.7 2.8]] [0. 0. 0. 0. 0. 0. 0. 0. 0. 0. 0. 0. 0. 0. 0. 0. 0. 0. 0. 0. 0. 0. 0. 0.\n",
      " 0. 0. 0. 0. 0. 0. 0. 0. 0. 0. 0. 0. 0. 0. 0. 0. 0. 0. 0. 0. 0. 0. 0. 0.\n",
      " 0. 0. 1. 1. 1. 1. 1. 1. 1. 1. 1. 1. 1. 1. 1. 1. 1. 1. 1. 1. 1. 1. 1. 1.\n",
      " 1. 1. 1. 1. 1. 1. 1. 1. 1. 1. 1. 1. 1. 1. 1. 1. 1. 1. 1. 1. 1. 1. 1. 1.\n",
      " 1. 1. 1. 1.]\n"
     ]
    }
   ],
   "source": [
    "#X[:,0]就是取矩阵X的所有行的第0列的元素，X[:,1] 就是取所有行的第1列的元素\n",
    "x,y=data[:,:-1],data[:,-1]   #x是坐标，y是标签\n",
    "print(x,y)"
   ]
  },
  {
   "cell_type": "code",
   "execution_count": 8,
   "metadata": {},
   "outputs": [
    {
     "name": "stdout",
     "output_type": "stream",
     "text": [
      "[-1 -1 -1 -1 -1 -1 -1 -1 -1 -1 -1 -1 -1 -1 -1 -1 -1 -1 -1 -1 -1 -1 -1 -1\n",
      " -1 -1 -1 -1 -1 -1 -1 -1 -1 -1 -1 -1 -1 -1 -1 -1 -1 -1 -1 -1 -1 -1 -1 -1\n",
      " -1 -1  1  1  1  1  1  1  1  1  1  1  1  1  1  1  1  1  1  1  1  1  1  1\n",
      "  1  1  1  1  1  1  1  1  1  1  1  1  1  1  1  1  1  1  1  1  1  1  1  1\n",
      "  1  1  1  1]\n"
     ]
    }
   ],
   "source": [
    "#更改标签,1=1,0->-1\n",
    "y=np.array([1 if i==1 else -1 for i in y])\n",
    "print(y)"
   ]
  },
  {
   "cell_type": "code",
   "execution_count": 9,
   "metadata": {},
   "outputs": [],
   "source": [
    "\n",
    "class Model:\n",
    "    def __init__(self):  \n",
    "        self.w = np.ones(len(data[0]) - 1, dtype=np.float32)  #权重\n",
    "        self.b = 0   #偏置\n",
    "        self.learning_rate = 0.001  #学习效率\n",
    "        # self.data = data\n",
    "    #模型\n",
    "    def sign(self,x,w,b):\n",
    "        Y=np.dot(x,w)+b  #相乘\n",
    "        return Y\n",
    "    #随机梯度下降法\n",
    "    def fit(self,x_train,y_train):\n",
    "        is_wrong=False\n",
    "        while not is_wrong:\n",
    "            wrong_count=0  #错误的次数\n",
    "            for d in range(len(x_train)):\n",
    "                x=x_train[d]\n",
    "                y=y_train[d]\n",
    "                if y*self.sign(x,self.w,self.b)<=0:  #如果判断错误\n",
    "                    self.w=self.w+self.learning_rate*np.dot(y,x)\n",
    "                    self.b=self.b+self.learning_rate*y\n",
    "                    wrong_count+=1 \n",
    "            if wrong_count==0:\n",
    "                is_wrong=True\n",
    "        return (\"perscption model \"+\"wrong_count=\"+str(wrong_count))\n",
    "    def score(self):\n",
    "        pass"
   ]
  },
  {
   "cell_type": "code",
   "execution_count": 10,
   "metadata": {},
   "outputs": [
    {
     "data": {
      "text/plain": [
       "'perscption model wrong_count=0'"
      ]
     },
     "execution_count": 10,
     "metadata": {},
     "output_type": "execute_result"
    }
   ],
   "source": [
    "perceptron = Model()\n",
    "perceptron.fit(x, y)  #传入x和y"
   ]
  },
  {
   "cell_type": "markdown",
   "metadata": {},
   "source": [
    "求超平面斜率：w[0]/w[1]\n",
    "求截距：b/w[1]\n",
    "模型：y=-(w[0]/w[1]*x+b/w[1])"
   ]
  },
  {
   "cell_type": "code",
   "execution_count": 11,
   "metadata": {},
   "outputs": [
    {
     "name": "stdout",
     "output_type": "stream",
     "text": [
      "[ 0.0691 -0.0463]\n",
      "-0.22600000000000017\n"
     ]
    },
    {
     "data": {
      "text/plain": [
       "<matplotlib.legend.Legend at 0x2accbd53448>"
      ]
     },
     "execution_count": 11,
     "metadata": {},
     "output_type": "execute_result"
    },
    {
     "data": {
      "image/png": "[encoded data removed]",
      "text/plain": [
       "<Figure size 432x288 with 1 Axes>"
      ]
     },
     "metadata": {
      "needs_background": "light"
     },
     "output_type": "display_data"
    }
   ],
   "source": [
    "#分割线\n",
    "print(perceptron.w)\n",
    "print(perceptron.b)\n",
    "x_points = np.linspace(4, 7)\n",
    "#y_ = -(perceptron.w[0] * x_points + perceptron.b) / perceptron.w[1]\n",
    "y_=-(perceptron.w[0]/perceptron.w[1]*x_points+perceptron.b/perceptron.w[1])\n",
    "plt.plot(x_points,y_,\"r\")\n",
    "\n",
    "#散点图\n",
    "# 中文标题\n",
    "plt.rcParams['font.sans-serif']=['SimHei']\n",
    "plt.rcParams['axes.unicode_minus'] = False\n",
    "plt.title('鸢尾花线性数据示例')\n",
    "\n",
    "plt.plot(data[:50, 0], data[:50, 1], 'bo', color='blue', label='0')\n",
    "plt.plot(data[50:100, 0], data[50:100, 1], 'bo', color='orange', label='1')\n",
    "plt.xlabel('sepal length')\n",
    "plt.ylabel('sepal width')\n",
    "plt.legend()"
   ]
  },
  {
   "cell_type": "markdown",
   "metadata": {},
   "source": []
  }
 ],
 "metadata": {
  "interpreter": {
   "hash": "7b4b4feff2f24a0f0a34464dbe537a36fda679851528fb8735cb41fa49dffb2d"
  },
  "kernelspec": {
   "display_name": "Python 3.7.6 64-bit ('base': conda)",
   "name": "python3"
  },
  "language_info": {
   "codemirror_mode": {
    "name": "ipython",
    "version": 3
   },
   "file_extension": ".py",
   "mimetype": "text/x-python",
   "name": "python",
   "nbconvert_exporter": "python",
   "pygments_lexer": "ipython3",
   "version": "3.7.6"
  },
  "orig_nbformat": 4
 },
 "nbformat": 4,
 "nbformat_minor": 2
}
