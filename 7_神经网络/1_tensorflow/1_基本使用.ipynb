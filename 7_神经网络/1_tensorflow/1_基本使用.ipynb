{
 "cells": [
  {
   "cell_type": "markdown",
   "metadata": {},
   "source": [
    "# 基础"
   ]
  },
  {
   "cell_type": "code",
   "execution_count": 16,
   "metadata": {},
   "outputs": [
    {
     "name": "stdout",
     "output_type": "stream",
     "text": [
      "Tensor(\"MatMul_2:0\", shape=(1, 1), dtype=int32)\n"
     ]
    }
   ],
   "source": [
    "import tensorflow as tf\n",
    "tf.compat.v1.disable_eager_execution()\n",
    "#创建一个变量op\n",
    "m1=tf.constant([[3,3]])  #一行两列\n",
    "#创建一个 变量op\n",
    "m2=tf.constant([[3],[3]])  #两行一列\n",
    "#矩阵相乘\n",
    "pro=tf.matmul(m1,m2)\n",
    "print(pro)"
   ]
  },
  {
   "cell_type": "markdown",
   "metadata": {},
   "source": [
    "## 创建会话"
   ]
  },
  {
   "cell_type": "code",
   "execution_count": 17,
   "metadata": {},
   "outputs": [
    {
     "name": "stdout",
     "output_type": "stream",
     "text": [
      "[[18]]\n"
     ]
    }
   ],
   "source": [
    "#定义一个会话\n",
    "sess=tf.compat.v1.Session()\n",
    "result=sess.run(pro)\n",
    "print(result)\n",
    "sess.close()  #关闭会话"
   ]
  },
  {
   "cell_type": "code",
   "execution_count": 18,
   "metadata": {},
   "outputs": [
    {
     "name": "stdout",
     "output_type": "stream",
     "text": [
      "[[18]]\n"
     ]
    }
   ],
   "source": [
    "#定义会话另一种方法\n",
    "with tf.compat.v1.Session() as sess:  #自动关闭会话\n",
    "    result=sess.run(pro)\n",
    "    print(result)"
   ]
  },
  {
   "cell_type": "markdown",
   "metadata": {},
   "source": [
    "## 变量的使用"
   ]
  },
  {
   "cell_type": "code",
   "execution_count": 25,
   "metadata": {},
   "outputs": [
    {
     "name": "stdout",
     "output_type": "stream",
     "text": [
      "[-2 -1]\n",
      "[4 5]\n"
     ]
    }
   ],
   "source": [
    "x=tf.Variable([1,2])\n",
    "a=tf.constant([3,3])\n",
    "#减法op\n",
    "sub=tf.subtract(x,a)\n",
    "#加法op\n",
    "add=tf.add(x,a)\n",
    "#初始化变量\n",
    "init=tf.compat.v1.global_variables_initializer()\n",
    "#创建会话\n",
    "with tf.compat.v1.Session() as sess:\n",
    "    sess.run(init)\n",
    "    print(sess.run(sub))\n",
    "    print(sess.run(add))"
   ]
  },
  {
   "cell_type": "code",
   "execution_count": 32,
   "metadata": {},
   "outputs": [
    {
     "name": "stdout",
     "output_type": "stream",
     "text": [
      "1\n",
      "1\n",
      "2\n",
      "3\n",
      "4\n",
      "5\n",
      "6\n"
     ]
    }
   ],
   "source": [
    "#创建一个变量初始化为0\n",
    "state=tf.Variable(0,name=\"counter\")\n",
    "#加法\n",
    "new_value=tf.add(state,1)\n",
    "#赋值\n",
    "updata=tf.compat.v1.assign(state,new_value)\n",
    "#初始化变量\n",
    "init=tf.compat.v1.global_variables_initializer()\n",
    "#创建会话\n",
    "with tf.compat.v1.Session() as sess:\n",
    "    sess.run(init)\n",
    "    print(sess.run(new_value))\n",
    "    print(sess.run(updata))\n",
    "    #定义循环\n",
    "    for i in range(5):\n",
    "        print(sess.run(updata))\n",
    "        "
   ]
  },
  {
   "cell_type": "markdown",
   "metadata": {},
   "source": [
    "## Fetch and Feed"
   ]
  },
  {
   "cell_type": "code",
   "execution_count": 35,
   "metadata": {},
   "outputs": [
    {
     "name": "stdout",
     "output_type": "stream",
     "text": [
      "[5.0, 6.0]\n"
     ]
    }
   ],
   "source": [
    "'''Fetch'''\n",
    "input1=tf.constant(3.0)\n",
    "input2=tf.constant(2.0)\n",
    "input3=tf.constant(1.0)\n",
    "#加法op\n",
    "add=tf.add(input1,input2)\n",
    "#乘法op\n",
    "mul=tf.multiply(input1,input2)\n",
    "#初始化变量\n",
    "init=tf.compat.v1.global_variables_initializer()\n",
    "#创建会话\n",
    "with tf.compat.v1.Session() as sess:\n",
    "    sess.run(init)\n",
    "    print(sess.run([add,mul]))  #同时运行俩个op\n"
   ]
  },
  {
   "cell_type": "code",
   "execution_count": 38,
   "metadata": {},
   "outputs": [
    {
     "name": "stdout",
     "output_type": "stream",
     "text": [
      "9.0\n"
     ]
    }
   ],
   "source": [
    "'''Feed'''\n",
    "#创建占位符op\n",
    "input1=tf.compat.v1.placeholder(tf.float32)\n",
    "input2=tf.compat.v1.placeholder(tf.float32)\n",
    "output=tf.multiply(input1,input2)\n",
    "#初始化变量\n",
    "init=tf.compat.v1.global_variables_initializer()\n",
    "#创建会话\n",
    "with tf.compat.v1.Session() as sess:\n",
    "    sess.run(init)\n",
    "    #feed的数据以字典形式传入\n",
    "    print(sess.run(output,feed_dict={input1:3,input2:3}))  #这里传入值"
   ]
  },
  {
   "cell_type": "markdown",
   "metadata": {},
   "source": [
    "## 案例"
   ]
  },
  {
   "cell_type": "code",
   "execution_count": 60,
   "metadata": {},
   "outputs": [
    {
     "name": "stdout",
     "output_type": "stream",
     "text": [
      "loss= 3.6455853\n",
      "0 [0.62098074, -1.9747584]\n",
      "loss= 0.0051705968\n",
      "20 [0.3404105, 0.065453]\n",
      "loss= 0.00017061106\n",
      "40 [0.14367129, 0.17556134]\n",
      "loss= 5.62956e-06\n",
      "60 [0.10793286, 0.19556074]\n",
      "loss= 1.8575648e-07\n",
      "80 [0.101441, 0.19919361]\n",
      "loss= 6.1293575e-09\n",
      "100 [0.100261755, 0.19985351]\n"
     ]
    },
    {
     "data": {
      "text/plain": [
       "<matplotlib.legend.Legend at 0x27b5acbf388>"
      ]
     },
     "execution_count": 60,
     "metadata": {},
     "output_type": "execute_result"
    },
    {
     "data": {
      "image/png": "[encoded data removed]",
      "text/plain": [
       "<Figure size 432x288 with 1 Axes>"
      ]
     },
     "metadata": {
      "needs_background": "light"
     },
     "output_type": "display_data"
    }
   ],
   "source": [
    "import tensorflow   as tf\n",
    "import numpy as np\n",
    "import matplotlib.pyplot as plt\n",
    "#使用numpy生成100个随即点\n",
    "x_data=np.random.rand(100)\n",
    "y_data=x_data*0.1+0.2\n",
    "\n",
    "#构造线性模型\n",
    "b=tf.Variable(2.)  #浮点型\n",
    "k=tf.Variable(3.)\n",
    "y=k*x_data+b\n",
    "'''operation'''\n",
    "#创建二次代价函数\n",
    "loss=tf.compat.v1.reduce_mean(tf.square(y_data-y))  #误差平方平均值\n",
    "#定义一个梯度下降来进行优化\n",
    "optimizer=tf.compat.v1.train.GradientDescentOptimizer(learning_rate=0.6,\n",
    "                                                    use_locking=False, \n",
    "                                                    name=\"GradientDescent\")\n",
    "#最小化代价函数\n",
    "train=optimizer.minimize(loss)\n",
    "'''初始化变量'''\n",
    "init=tf.compat.v1.global_variables_initializer()\n",
    "'''创建会话'''\n",
    "with tf.compat.v1.Session() as sess:\n",
    "    sess.run(init)\n",
    "    for step in range(120):\n",
    "        sess.run(train)\n",
    "        if (step%20==0):\n",
    "            print(\"loss=\",sess.run(loss))\n",
    "            print(step,sess.run([k,b]))\n",
    "\n",
    "    func=sess.run(k)*x_data+sess.run(b)\n",
    "'''可视化'''\n",
    "plt.plot(x_data,y_data,label=\"real\")\n",
    "plt.plot(x_data,func,label=\"xuni\")\n",
    "plt.legend()"
   ]
  }
 ],
 "metadata": {
  "interpreter": {
   "hash": "8f03fb8992b0e5aa6a67cd56eb653950a01f214acb97d94a2178dd1aa47d1bcf"
  },
  "kernelspec": {
   "display_name": "Python 3.7.6 64-bit ('base': conda)",
   "language": "python",
   "name": "python3"
  },
  "language_info": {
   "codemirror_mode": {
    "name": "ipython",
    "version": 3
   },
   "file_extension": ".py",
   "mimetype": "text/x-python",
   "name": "python",
   "nbconvert_exporter": "python",
   "pygments_lexer": "ipython3",
   "version": "3.7.6"
  },
  "orig_nbformat": 4
 },
 "nbformat": 4,
 "nbformat_minor": 2
}
