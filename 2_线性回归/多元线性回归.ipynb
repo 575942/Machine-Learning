{
 "cells": [
  {
   "cell_type": "markdown",
   "metadata": {},
   "source": [
    "# 多元线性回归"
   ]
  },
  {
   "cell_type": "markdown",
   "metadata": {},
   "source": [
    "## 多元线性回归模型介绍  \n",
    "\n",
    "多元线性回归尝试通过用一个线性方程来适配观测数据,这个线性方程是在两个以上（包括两个)的特征和响应之间构建的一个关系。\n",
    "\n",
    "多元线性回归的实现步骤和简单线性回归很相似,**但是在评价部分有所不同。**\n",
    "\n",
    "你可以用它来找出在预测结果上哪个因素影响力最大，以及不同变量是如何相互关联的。\n",
    "\n",
    "y=b0+b1X1+b2X2+b3X3++.......bnXn\n",
    " \n",
    "### 虚拟变量\n",
    "    分类数据，离散、数值有限且无序，比如性别可以是男和女，回归模型中可以用虚拟变量表示，1表男生，0表示女生。\n",
    "\n",
    "### 虚拟变量的陷阱\n",
    "    直观的说，有一个重复的类别：如果我们放弃了男性类别，则它在女性类别中被定义为零（女性值为零表示男性，反之亦然）。 虚拟变量陷阱的解决方案是删除一个分类变量 —— 如果有多个类别，则在模型中使用m-1。 遗漏的值可以被认为是参考值"
   ]
  },
  {
   "cell_type": "markdown",
   "metadata": {},
   "source": [
    "## 1、数据预处理\n",
    "* 导入需要的库\n",
    "* 导入数据\n",
    "* 检查数据缺失值，Onehotencoder编码是对离散特征值的编码方式，用于给线性模型增加非线性能力。\n",
    "* 划分数据集\n",
    "* 特征工程"
   ]
  },
  {
   "cell_type": "code",
   "execution_count": 1,
   "metadata": {},
   "outputs": [],
   "source": [
    "import numpy as np \n",
    "import pandas as pd\n",
    "from sklearn.preprocessing import LabelEncoder,OneHotEncoder\n",
    "from sklearn.compose import ColumnTransformer\n",
    "from sklearn.model_selection import train_test_split\n",
    "from sklearn.preprocessing import StandardScaler\n",
    "#导入数据\n",
    "df=pd.read_csv(r\"D:\\program Lab Report\\machine learning\\100day\\datasets\\50_Startups.csv\")\n",
    "x=df.iloc[:,:-1].values  \n",
    "y=df.iloc[:,-1].values \n",
    "#将类别数据数字化\n",
    "ct=ColumnTransformer([(\"State\",OneHotEncoder(),[3])],remainder=\"passthrough\")\n",
    "x=ct.fit_transform(x)\n",
    "#避免虚拟变量陷阱\n",
    "x = x[: , 1:]\n",
    "#划分数据集\n",
    "x_train,x_test,y_train,y_test=train_test_split(x,y,test_size=0.2)"
   ]
  },
  {
   "cell_type": "markdown",
   "metadata": {},
   "source": [
    "## 2、训练模型\n",
    "* sklearn.linear_model库的LinearRegression类。\n",
    "* 创建一个LinearRegression类的**regressor**对象。\n",
    "* 使用LinearRegression类的fit()方法将**regressor**对象对数据集进行训练。"
   ]
  },
  {
   "cell_type": "code",
   "execution_count": 2,
   "metadata": {},
   "outputs": [],
   "source": [
    "from sklearn.linear_model import LinearRegression\n",
    "regressor=LinearRegression()\n",
    "regressor=regressor.fit(x_train,y_train)\n",
    "y_pred=regressor.predict(x_train)"
   ]
  },
  {
   "cell_type": "markdown",
   "metadata": {},
   "source": [
    "## 3、模型预测"
   ]
  },
  {
   "cell_type": "code",
   "execution_count": 3,
   "metadata": {},
   "outputs": [],
   "source": [
    "y_pred=regressor.predict(x_test)"
   ]
  }
 ],
 "metadata": {
  "interpreter": {
   "hash": "8f03fb8992b0e5aa6a67cd56eb653950a01f214acb97d94a2178dd1aa47d1bcf"
  },
  "kernelspec": {
   "display_name": "Python 3.7.6 64-bit ('base': conda)",
   "language": "python",
   "name": "python3"
  },
  "language_info": {
   "codemirror_mode": {
    "name": "ipython",
    "version": 3
   },
   "file_extension": ".py",
   "mimetype": "text/x-python",
   "name": "python",
   "nbconvert_exporter": "python",
   "pygments_lexer": "ipython3",
   "version": "3.7.6"
  },
  "orig_nbformat": 4
 },
 "nbformat": 4,
 "nbformat_minor": 2
}
