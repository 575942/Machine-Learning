{
 "cells": [
  {
   "cell_type": "code",
   "execution_count": 1,
   "metadata": {},
   "outputs": [],
   "source": [
    "import numpy as np\n",
    "import matplotlib.pyplot as plt #tool of visualisation\n",
    "from sklearn.datasets import load_iris   #Download the data set\n",
    "from sklearn.model_selection  import train_test_split,GridSearchCV   #Dividing the data set,find the best estimator（切割数据，最优模型）\n",
    "from sklearn.preprocessing import StandardScaler #Standardising the data set（数据标准化）\n",
    "from sklearn.neighbors import KNeighborsClassifier  #Classifier（分类器）"
   ]
  },
  {
   "cell_type": "code",
   "execution_count": 14,
   "metadata": {},
   "outputs": [
    {
     "name": "stdout",
     "output_type": "stream",
     "text": [
      "最优参数:\n",
      "KNeighborsClassifier(algorithm='auto', leaf_size=30, metric='minkowski',\n",
      "                     metric_params=None, n_jobs=None, n_neighbors=8, p=2,\n",
      "                     weights='uniform')\n",
      "Compare actual results with predicted results:\n",
      " [ True  True  True  True  True  True  True  True  True  True  True  True\n",
      "  True  True  True  True  True  True  True  True  True  True  True  True\n",
      "  True  True  True  True  True  True  True  True  True  True  True  True\n",
      "  True  True]\n",
      "Accuracy=100.0%\n"
     ]
    }
   ],
   "source": [
    "#Download data set（下载数据集）\n",
    "iris=load_iris()  #download data set \n",
    "\n",
    "#Dividing the iris data set into training set and test set（划分训练数据和测试数据）\n",
    "x_train,x_test,y_train,y_test=train_test_split(iris.data,iris.target)\n",
    "\n",
    "#Standardising the data set（数据标准化）\n",
    "def standard(x_train,x_test):\n",
    "    transfer=StandardScaler()\n",
    "    x_train=transfer.fit_transform(x_train) \n",
    "    x_test=transfer.transform(x_test)\n",
    "    return x_train,x_test\n",
    "x_train,x_test=standard(x_train,x_test)  #标准化后的数据\n",
    "\n",
    "#Model Training（模型训练）\n",
    "def model_train(x_train,y_train):\n",
    "    estimator=KNeighborsClassifier(n_neighbors=8) #input value of k\n",
    "    estimator.fit(x_train,y_train)  #training the data set（输入训练数据）\n",
    "    return estimator\n",
    "estimator=model_train(x_train,y_train)  #训练后的优化器\n",
    "print(\"最优参数:\\n\"+str(estimator))  \n",
    "\n",
    "#Model evaluation（模型评估）\n",
    "def evaluation(x_test,y_test):\n",
    "    y_predict=estimator.predict(x_test)    #预测结构\n",
    "    print(\"Compare actual results with predicted results:\\n\",y_predict==y_test)  \n",
    "    score=estimator.score(x_test,y_test)  #计算准确率\n",
    "    print(f\"Accuracy={score*100}%\")  #Calculate accuracy\n",
    "    return y_predict,score\n",
    "y_predict0,score0=evaluation(x_test,y_test)  #返回预测数据和准确率"
   ]
  },
  {
   "cell_type": "markdown",
   "metadata": {},
   "source": [
    "# How to find the best estimator?\n",
    "We don't kown what the best value k is? so we take advantange of Cross validation(交叉验证)\n",
    "\n",
    "API: sklearn.model_selection.GridSearchCV(estimator,param_grid=None,cv=None)\n",
    "* param_grid: Estimator parameters(dict){\"n_neighbors:[1,4,6]\"}\n",
    "* cv: Several fold cross-validation(几折交叉验证) "
   ]
  },
  {
   "cell_type": "code",
   "execution_count": 15,
   "metadata": {},
   "outputs": [
    {
     "name": "stdout",
     "output_type": "stream",
     "text": [
      "GridSearchCV(cv=4, error_score=nan,\n",
      "             estimator=KNeighborsClassifier(algorithm='auto', leaf_size=30,\n",
      "                                            metric='minkowski',\n",
      "                                            metric_params=None, n_jobs=None,\n",
      "                                            n_neighbors=5, p=2,\n",
      "                                            weights='uniform'),\n",
      "             iid='deprecated', n_jobs=None,\n",
      "             param_grid={'n_neighbors': [4, 3, 6, 7, 8]},\n",
      "             pre_dispatch='2*n_jobs', refit=True, return_train_score=False,\n",
      "             scoring=None, verbose=0)\n",
      "Compare actual results with predicted results [ True  True  True  True  True  True  True  True  True  True  True  True\n",
      "  True  True  True  True  True  True  True  True  True  True  True  True\n",
      "  True  True  True  True  True  True  True  True  True  True  True  True\n",
      "  True  True]\n",
      "Compare actual results with predicted results [ True  True  True  True  True  True  True  True  True  True  True  True\n",
      "  True  True  True  True  True  True  True  True  True  True  True  True\n",
      "  True  True  True  True  True  True  True  True  True  True  True  True\n",
      "  True  True]\n",
      "origin accuracy=1.0\n",
      "several fold cross-validation accuracy=1.0\n"
     ]
    }
   ],
   "source": [
    "#Model Training\n",
    "def model_train(x_train,y_train):\n",
    "    estimator=KNeighborsClassifier() #input value of k\n",
    "    '''several fold cross-validation'''\n",
    "    param_dict={\"n_neighbors\":[4,3,6,7,8]} #K-value gird search（k值网格搜索）\n",
    "    estimator=GridSearchCV(estimator=estimator, #优化器\n",
    "                            param_grid=param_dict, #网格搜索k值\n",
    "                            cv=4  #几折交叉验证\n",
    "                            )\n",
    "    estimator.fit(x_train,y_train)  #training the data set（输入训练数据）\n",
    "    return estimator\n",
    "estimator=model_train(x_train,y_train)  #返回最优参数模型\n",
    "print(estimator)  \n",
    "\n",
    "#Model evaluation\n",
    "def evaluation(x_test,y_test):\n",
    "    y_predict=estimator.predict(x_test)  \n",
    "    #print(\"Compare actual results with predicted results\",y_predict==y_test)  \n",
    "    score=estimator.score(x_test,y_test)\n",
    "    #print(f\"Accuracy={score*100}%\")  #Calculate accuracy\n",
    "    return y_predict,score\n",
    "y_predict1,score1=evaluation(x_test,y_test)\n",
    "\n",
    "print(\"Compare actual results with predicted results\",y_predict0==y_test)\n",
    "print(\"Compare actual results with predicted results\",y_predict1==y_test)\n",
    "print(f\"origin accuracy={score0}\")\n",
    "print(f\"several fold cross-validation accuracy={score1}\")"
   ]
  }
 ],
 "metadata": {
  "interpreter": {
   "hash": "7b4b4feff2f24a0f0a34464dbe537a36fda679851528fb8735cb41fa49dffb2d"
  },
  "kernelspec": {
   "display_name": "Python 3.7.6 64-bit ('base': conda)",
   "language": "python",
   "name": "python3"
  },
  "language_info": {
   "codemirror_mode": {
    "name": "ipython",
    "version": 3
   },
   "file_extension": ".py",
   "mimetype": "text/x-python",
   "name": "python",
   "nbconvert_exporter": "python",
   "pygments_lexer": "ipython3",
   "version": "3.7.6"
  },
  "orig_nbformat": 4
 },
 "nbformat": 4,
 "nbformat_minor": 2
}
