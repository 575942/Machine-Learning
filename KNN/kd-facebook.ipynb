{
 "cells": [
  {
   "cell_type": "code",
   "execution_count": 1,
   "metadata": {},
   "outputs": [],
   "source": [
    "import numpy as np\n",
    "import pandas as pd\n",
    "import matplotlib.pyplot as plt\n",
    "from sklearn.model_selection import train_test_split,GridSearchCV #divide dataset and find the best estimator\n",
    "from sklearn.preprocessing import StandardScaler #standardise dataset\n",
    "from sklearn.neighbors import KNeighborsClassifier  #classify dataset"
   ]
  },
  {
   "cell_type": "markdown",
   "metadata": {},
   "source": [
    "Specific steps\n",
    "* Access to datset\n",
    "* Basic dataset processing\n",
    "    * Narrowing the data\n",
    "    * Selecte valid time features\n",
    "    * Removal of less signed-in areas(去除签到较少的地方)\n",
    "    * Determining feature values and target values\n",
    "* Dividing the dataset \n",
    "* Standardising the dataset\n",
    "* Machine Learning(Model traing)\n",
    "* Model evaluation(模型评估)"
   ]
  },
  {
   "cell_type": "code",
   "execution_count": 2,
   "metadata": {},
   "outputs": [
    {
     "data": {
      "text/html": [
       "<div>\n",
       "<style scoped>\n",
       "    .dataframe tbody tr th:only-of-type {\n",
       "        vertical-align: middle;\n",
       "    }\n",
       "\n",
       "    .dataframe tbody tr th {\n",
       "        vertical-align: top;\n",
       "    }\n",
       "\n",
       "    .dataframe thead th {\n",
       "        text-align: right;\n",
       "    }\n",
       "</style>\n",
       "<table border=\"1\" class=\"dataframe\">\n",
       "  <thead>\n",
       "    <tr style=\"text-align: right;\">\n",
       "      <th></th>\n",
       "      <th>row_id</th>\n",
       "      <th>x</th>\n",
       "      <th>y</th>\n",
       "      <th>accuracy</th>\n",
       "      <th>time</th>\n",
       "      <th>place_id</th>\n",
       "    </tr>\n",
       "  </thead>\n",
       "  <tbody>\n",
       "    <tr>\n",
       "      <th>0</th>\n",
       "      <td>0</td>\n",
       "      <td>0.7941</td>\n",
       "      <td>9.0809</td>\n",
       "      <td>54</td>\n",
       "      <td>470702</td>\n",
       "      <td>8523065625</td>\n",
       "    </tr>\n",
       "    <tr>\n",
       "      <th>1</th>\n",
       "      <td>1</td>\n",
       "      <td>5.9567</td>\n",
       "      <td>4.7968</td>\n",
       "      <td>13</td>\n",
       "      <td>186555</td>\n",
       "      <td>1757726713</td>\n",
       "    </tr>\n",
       "    <tr>\n",
       "      <th>2</th>\n",
       "      <td>2</td>\n",
       "      <td>8.3078</td>\n",
       "      <td>7.0407</td>\n",
       "      <td>74</td>\n",
       "      <td>322648</td>\n",
       "      <td>1137537235</td>\n",
       "    </tr>\n",
       "    <tr>\n",
       "      <th>3</th>\n",
       "      <td>3</td>\n",
       "      <td>7.3665</td>\n",
       "      <td>2.5165</td>\n",
       "      <td>65</td>\n",
       "      <td>704587</td>\n",
       "      <td>6567393236</td>\n",
       "    </tr>\n",
       "    <tr>\n",
       "      <th>4</th>\n",
       "      <td>4</td>\n",
       "      <td>4.0961</td>\n",
       "      <td>1.1307</td>\n",
       "      <td>31</td>\n",
       "      <td>472130</td>\n",
       "      <td>7440663949</td>\n",
       "    </tr>\n",
       "  </tbody>\n",
       "</table>\n",
       "</div>"
      ],
      "text/plain": [
       "   row_id       x       y  accuracy    time    place_id\n",
       "0       0  0.7941  9.0809        54  470702  8523065625\n",
       "1       1  5.9567  4.7968        13  186555  1757726713\n",
       "2       2  8.3078  7.0407        74  322648  1137537235\n",
       "3       3  7.3665  2.5165        65  704587  6567393236\n",
       "4       4  4.0961  1.1307        31  472130  7440663949"
      ]
     },
     "execution_count": 2,
     "metadata": {},
     "output_type": "execute_result"
    }
   ],
   "source": [
    "#1 Access to dataset\n",
    "feacbook_train=pd.read_csv(\"train-facebook.csv\")\n",
    "feacbook_train.head()"
   ]
  },
  {
   "cell_type": "code",
   "execution_count": 3,
   "metadata": {},
   "outputs": [
    {
     "name": "stderr",
     "output_type": "stream",
     "text": [
      "D:\\anaconda33\\lib\\site-packages\\ipykernel_launcher.py:6: SettingWithCopyWarning: \n",
      "A value is trying to be set on a copy of a slice from a DataFrame.\n",
      "Try using .loc[row_indexer,col_indexer] = value instead\n",
      "\n",
      "See the caveats in the documentation: https://pandas.pydata.org/pandas-docs/stable/user_guide/indexing.html#returning-a-view-versus-a-copy\n",
      "  \n",
      "D:\\anaconda33\\lib\\site-packages\\ipykernel_launcher.py:7: SettingWithCopyWarning: \n",
      "A value is trying to be set on a copy of a slice from a DataFrame.\n",
      "Try using .loc[row_indexer,col_indexer] = value instead\n",
      "\n",
      "See the caveats in the documentation: https://pandas.pydata.org/pandas-docs/stable/user_guide/indexing.html#returning-a-view-versus-a-copy\n",
      "  import sys\n",
      "D:\\anaconda33\\lib\\site-packages\\ipykernel_launcher.py:8: SettingWithCopyWarning: \n",
      "A value is trying to be set on a copy of a slice from a DataFrame.\n",
      "Try using .loc[row_indexer,col_indexer] = value instead\n",
      "\n",
      "See the caveats in the documentation: https://pandas.pydata.org/pandas-docs/stable/user_guide/indexing.html#returning-a-view-versus-a-copy\n",
      "  \n"
     ]
    }
   ],
   "source": [
    "#2.1 Narrowing the data（缩小数据范围）\n",
    "facebook_data=feacbook_train.query(\"x>2 & x<2.5 & y>2 & y<2.5\") #select data range\n",
    "#2.2 Select valid time feature（选择有效的时间）\n",
    "time=pd.to_datetime(facebook_data[\"time\"],unit=\"s\")\n",
    "time=pd.DatetimeIndex(time)  #converting time data into a list （将时间存放之列表）\n",
    "facebook_data[\"day\"]=time.day\n",
    "facebook_data[\"hour\"]=time.hour\n",
    "facebook_data[\"year\"]=time.year\n",
    "facebook_data.head()\n",
    "#2.3 Removal of less signed-in areas\n",
    "place_count=facebook_data.groupby([\"place_id\"]).count()\n",
    "place_count=place_count[place_count[\"row_id\"]>3]  #number of signed-ins >3\n",
    "facebook_data=facebook_data[facebook_data[\"place_id\"].isin(place_count.index)]\n",
    "facebook_data.head()\n",
    "#2.4 Determining feature values and target values\n",
    "x=facebook_data[[\"x\",\"y\",\"accuracy\",\"day\",\"hour\",\"year\"]]  \n",
    "label=facebook_data[\"place_id\"]"
   ]
  },
  {
   "cell_type": "code",
   "execution_count": 5,
   "metadata": {},
   "outputs": [
    {
     "name": "stderr",
     "output_type": "stream",
     "text": [
      "D:\\anaconda33\\lib\\site-packages\\sklearn\\model_selection\\_split.py:667: UserWarning: The least populated class in y has only 1 members, which is less than n_splits=5.\n",
      "  % (min_groups, self.n_splits)), UserWarning)\n"
     ]
    },
    {
     "name": "stdout",
     "output_type": "stream",
     "text": [
      "Compare actual results with predicted results\n",
      " 24703810     True\n",
      "19445902    False\n",
      "18490063     True\n",
      "7762709     False\n",
      "6505956     False\n",
      "            ...  \n",
      "27632888    False\n",
      "23367671    False\n",
      "6692268     False\n",
      "25834435    False\n",
      "13319005     True\n",
      "Name: place_id, Length: 17316, dtype: bool\n",
      "accuracy=0.38\n"
     ]
    }
   ],
   "source": [
    "#3 Dividing the data（切割数据）\n",
    "x_train,x_test,y_train,y_test=train_test_split(x,label,random_state=22)\n",
    "\n",
    "#4 Standardising the data（数据标准化）\n",
    "transfer=StandardScaler()\n",
    "x_train=transfer.fit_transform(x_train)\n",
    "x_test=transfer.transform(x_test)\n",
    "\n",
    "#5 Model training（模型训练）\n",
    "estimator=KNeighborsClassifier()\n",
    "'''several fold cross-validation'''\n",
    "param_dict={\"n_neighbors\":[1,3,5,6,7,9]}\n",
    "estimator=GridSearchCV(estimator,param_grid=param_dict,cv=5)\n",
    "estimator.fit(x_train,y_train)  #traing the model\n",
    "estimator=estimator.best_estimator_ #the best estimator\n",
    "\n",
    "#6 Model evaluation\n",
    "y_predict=estimator.predict(x_test)\n",
    "print(\"Compare actual results with predicted results\\n\",y_predict==y_test)\n",
    "accuracy=estimator.score(x_test,y_test)\n",
    "print(\"accuracy={:.2}\".format(accuracy))\n"
   ]
  }
 ],
 "metadata": {
  "interpreter": {
   "hash": "7b4b4feff2f24a0f0a34464dbe537a36fda679851528fb8735cb41fa49dffb2d"
  },
  "kernelspec": {
   "display_name": "Python 3.7.6 64-bit ('base': conda)",
   "language": "python",
   "name": "python3"
  },
  "language_info": {
   "codemirror_mode": {
    "name": "ipython",
    "version": 3
   },
   "file_extension": ".py",
   "mimetype": "text/x-python",
   "name": "python",
   "nbconvert_exporter": "python",
   "pygments_lexer": "ipython3",
   "version": "3.7.6"
  },
  "orig_nbformat": 4
 },
 "nbformat": 4,
 "nbformat_minor": 2
}
