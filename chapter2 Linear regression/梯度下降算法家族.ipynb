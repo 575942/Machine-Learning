{
 "cells": [
  {
   "cell_type": "markdown",
   "metadata": {},
   "source": [
    "# 梯度下降算法大家族"
   ]
  },
  {
   "cell_type": "markdown",
   "metadata": {},
   "source": [
    "## 全梯度下降算法(FG)\n",
    "    计算训练集所有样本误差，对其求和再取平均值作为目标函数。\n",
    "    权重向量沿其梯度相反的方向移动，从而使当前目标函数减少得最多。\n",
    "* 缺点：\n",
    "    * 每次更新，我们需要在整个数据集上计算计算所有的数据集，批梯度下降算法速度会很慢；\n",
    "    * 数据集不能超出内存大小。\n",
    "\n",
    "* 优点：\n",
    "    * 每次更新都会朝着正确的方向进行，最后能够保证收敛于极值点。\n"
   ]
  },
  {
   "cell_type": "code",
   "execution_count": null,
   "metadata": {},
   "outputs": [],
   "source": [
    "import numpy as np\n",
    "import matplotlib.pyplot as plt\n",
    "#显示中文\n",
    "plt.rcParams['font.sans-serif'] = ['SimHei']  # 用来正常显示中文标签\n",
    "plt.rcParams['axes.unicode_minus'] = False  # 用来正常显示负号\n",
    "\n",
    "#创建数据\n",
    "x="
   ]
  }
 ],
 "metadata": {
  "interpreter": {
   "hash": "8f03fb8992b0e5aa6a67cd56eb653950a01f214acb97d94a2178dd1aa47d1bcf"
  },
  "kernelspec": {
   "display_name": "Python 3.7.6 64-bit ('base': conda)",
   "language": "python",
   "name": "python3"
  },
  "language_info": {
   "name": "python",
   "version": "3.7.6"
  },
  "orig_nbformat": 4
 },
 "nbformat": 4,
 "nbformat_minor": 2
}
